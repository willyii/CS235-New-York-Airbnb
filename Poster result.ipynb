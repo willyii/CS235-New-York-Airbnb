{
 "cells": [
  {
   "cell_type": "code",
   "execution_count": 1,
   "outputs": [],
   "source": [
    "# Ignore Warning\n",
    "import sys\n",
    "import warnings\n",
    "if not sys.warnoptions:\n",
    "    warnings.simplefilter(\"ignore\")\n"
   ],
   "metadata": {
    "collapsed": false,
    "pycharm": {
     "name": "#%%\n",
     "is_executing": false
    }
   }
  },
  {
   "cell_type": "markdown",
   "metadata": {
    "pycharm": {
     "name": "#%% md\n"
    }
   },
   "source": [
    "This file used to generate some pics for the poster. It will go through the LassoRegression, KNN, RandomForest, \n",
    "XGBoost and Neural Network one by one.\n",
    "\n",
    "For each model, It will go through the baseline model. Then model selection and the parameter optimization will be applied.\n",
    "After that, we will choose the best model parameter to train the model. The the performance of each model will be compared.\n",
    "\n",
    "Good Luck and Happy Code"
   ]
  },
  {
   "cell_type": "markdown",
   "source": [
    "## Lasso Regression\n",
    "This algorithm is made my Osten. Only one parameter in this algorithm. Let's do it "
   ],
   "metadata": {
    "collapsed": false
   }
  },
  {
   "cell_type": "code",
   "execution_count": 2,
   "outputs": [],
   "source": [
    "# Necessnary model\n",
    "import pandas as pd\n",
    "import numpy as np\n",
    "from sklearn.model_selection import cross_val_score, ShuffleSplit, train_test_split\n",
    "from sklearn.metrics import mean_squared_error\n",
    "import matplotlib.pyplot as plt\n",
    "path = \"Data/CleanedData.csv\""
   ],
   "metadata": {
    "collapsed": false,
    "pycharm": {
     "name": "#%%\n",
     "is_executing": false
    }
   }
  },
  {
   "cell_type": "code",
   "execution_count": 3,
   "outputs": [
    {
     "data": {
      "text/plain": "   lamda  CV error    CV std\n0    0.1  0.465262  0.008191",
      "text/html": "<div>\n<style scoped>\n    .dataframe tbody tr th:only-of-type {\n        vertical-align: middle;\n    }\n\n    .dataframe tbody tr th {\n        vertical-align: top;\n    }\n\n    .dataframe thead th {\n        text-align: right;\n    }\n</style>\n<table border=\"1\" class=\"dataframe\">\n  <thead>\n    <tr style=\"text-align: right;\">\n      <th></th>\n      <th>lamda</th>\n      <th>CV error</th>\n      <th>CV std</th>\n    </tr>\n  </thead>\n  <tbody>\n    <tr>\n      <th>0</th>\n      <td>0.1</td>\n      <td>0.465262</td>\n      <td>0.008191</td>\n    </tr>\n  </tbody>\n</table>\n</div>"
     },
     "metadata": {},
     "output_type": "execute_result",
     "execution_count": 3
    }
   ],
   "source": [
    "# Load Data for Lasso\n",
    "\n",
    "from LassoRegression.LassoRegression_CS235 import  Load_Data as Load_Data_Lasso, Lasso\n",
    "# from sklearn.linear_model import Lasso\n",
    "\n",
    "X_train_lasso, X_test_lasso, Y_train_lasso, Y_test_lasso = Load_Data_Lasso(path)\n",
    "\n",
    "rs = ShuffleSplit(n_splits=5, random_state=0, test_size=0.20, train_size=None)\n",
    "\n",
    "lasso_baseline = {\"lamda\": [0.1],\n",
    "                  \"CV error\": [],\n",
    "                  \"CV std\": []}\n",
    "\n",
    "# Test CV 5\n",
    "cv_train_error_lasso = []\n",
    "cv_val_error_lasso = []\n",
    "for train_split_index, test_split_index in rs.split(X_train_lasso, Y_train_lasso):\n",
    "    # Split Dataset\n",
    "    X_train_tmp = X_train_lasso[train_split_index]\n",
    "    Y_train_tmp = Y_train_lasso[train_split_index]\n",
    "    X_val_tmp = X_train_lasso[test_split_index]\n",
    "    Y_val_tmp = Y_train_lasso[test_split_index]\n",
    "\n",
    "    lasso_tmp = Lasso()\n",
    "    lasso_tmp.fit(X_train_tmp, Y_train_tmp)\n",
    "    \n",
    "    cv_train_error_lasso.append(mean_squared_error(Y_train_tmp, lasso_tmp.predict(X_train_tmp)))\n",
    "    cv_val_error_lasso.append(mean_squared_error(Y_val_tmp, lasso_tmp.predict(X_val_tmp)))\n",
    "\n",
    "# Baseline Result \n",
    "lasso_baseline[\"CV error\"].append(np.mean(cv_val_error_lasso))\n",
    "lasso_baseline[\"CV std\"].append(np.std(cv_val_error_lasso))\n",
    "lasso_baseline = pd.DataFrame(lasso_baseline)\n",
    "lasso_baseline\n",
    "# \"\"\"\n",
    "# Here are result\n",
    "# -----------------------\n",
    "# \tlamda\tCV error\tCV std\n",
    "# 0\t0.1\t0.460648\t0.008482\n",
    "# \"\"\""
   ],
   "metadata": {
    "collapsed": false,
    "pycharm": {
     "name": "#%%\n",
     "is_executing": false
    }
   }
  },
  {
   "cell_type": "code",
   "execution_count": 4,
   "outputs": [
    {
     "data": {
      "text/plain": "    lamda  CV error    CV std\n0  0.0001  0.465225  0.008191\n1  0.0010  0.465229  0.008191\n2  0.0050  0.465244  0.008191\n3  0.0100  0.465262  0.008191\n4  0.0500  0.465413  0.008191\n5  0.1000  0.465601  0.008191\n6  0.3000  0.466364  0.008190\n7  1.0000  0.469125  0.008203",
      "text/html": "<div>\n<style scoped>\n    .dataframe tbody tr th:only-of-type {\n        vertical-align: middle;\n    }\n\n    .dataframe tbody tr th {\n        vertical-align: top;\n    }\n\n    .dataframe thead th {\n        text-align: right;\n    }\n</style>\n<table border=\"1\" class=\"dataframe\">\n  <thead>\n    <tr style=\"text-align: right;\">\n      <th></th>\n      <th>lamda</th>\n      <th>CV error</th>\n      <th>CV std</th>\n    </tr>\n  </thead>\n  <tbody>\n    <tr>\n      <th>0</th>\n      <td>0.0001</td>\n      <td>0.465225</td>\n      <td>0.008191</td>\n    </tr>\n    <tr>\n      <th>1</th>\n      <td>0.0010</td>\n      <td>0.465229</td>\n      <td>0.008191</td>\n    </tr>\n    <tr>\n      <th>2</th>\n      <td>0.0050</td>\n      <td>0.465244</td>\n      <td>0.008191</td>\n    </tr>\n    <tr>\n      <th>3</th>\n      <td>0.0100</td>\n      <td>0.465262</td>\n      <td>0.008191</td>\n    </tr>\n    <tr>\n      <th>4</th>\n      <td>0.0500</td>\n      <td>0.465413</td>\n      <td>0.008191</td>\n    </tr>\n    <tr>\n      <th>5</th>\n      <td>0.1000</td>\n      <td>0.465601</td>\n      <td>0.008191</td>\n    </tr>\n    <tr>\n      <th>6</th>\n      <td>0.3000</td>\n      <td>0.466364</td>\n      <td>0.008190</td>\n    </tr>\n    <tr>\n      <th>7</th>\n      <td>1.0000</td>\n      <td>0.469125</td>\n      <td>0.008203</td>\n    </tr>\n  </tbody>\n</table>\n</div>"
     },
     "metadata": {},
     "output_type": "execute_result",
     "execution_count": 4
    }
   ],
   "source": [
    "# Now optimize the parameter lambda \n",
    "lasso = {\"lamda\": [],\n",
    "                  \"CV error\": [],\n",
    "                  \"CV std\": []}\n",
    "\n",
    "lam_list = [0.0001, 0.001, 0.005,0.01, 0.05, 0.1, 0.3, 1] \n",
    "\n",
    "for lam in lam_list:\n",
    "    # Test CV 5\n",
    "    cv_train_error_lasso = []\n",
    "    cv_val_error_lasso = []\n",
    "    for train_split_index, test_split_index in rs.split(X_train_lasso, Y_train_lasso):\n",
    "        # Split Dataset\n",
    "        X_train_tmp = X_train_lasso[train_split_index]\n",
    "        Y_train_tmp = Y_train_lasso[train_split_index]\n",
    "        X_val_tmp = X_train_lasso[test_split_index]\n",
    "        Y_val_tmp = Y_train_lasso[test_split_index]\n",
    "    \n",
    "        lasso_tmp = Lasso(lam)\n",
    "        lasso_tmp.fit(X_train_tmp, Y_train_tmp)\n",
    "        \n",
    "        cv_train_error_lasso.append(mean_squared_error(Y_train_tmp, lasso_tmp.predict(X_train_tmp)))\n",
    "        cv_val_error_lasso.append(mean_squared_error(Y_val_tmp, lasso_tmp.predict(X_val_tmp)))\n",
    "\n",
    "    # Baseline Result \n",
    "    lasso[\"lamda\"].append(lam)\n",
    "    lasso[\"CV error\"].append(np.mean(cv_val_error_lasso))\n",
    "    lasso[\"CV std\"].append(np.std(cv_val_error_lasso))\n",
    "lasso = pd.DataFrame(lasso)\n",
    "lasso\n",
    "\n",
    "\n",
    "# \"\"\"\n",
    "# Here are result\n",
    "# -----------------------\n",
    "#   lamda\tCV error\tCV std\n",
    "# 0\t0.0001\t0.460613\t0.008482\n",
    "# 1\t0.0010\t0.460616\t0.008482\n",
    "# 2\t0.0050\t0.460630\t0.008482\n",
    "# 3\t0.0100\t0.460648\t0.008482\n",
    "# 4\t0.0500\t0.460791\t0.008481\n",
    "# 5\t0.1000\t0.460970\t0.008480\n",
    "# 6\t0.3000\t0.461689\t0.008474\n",
    "# 7\t1.0000\t0.464303\t0.008450\n",
    "# \"\"\"    "
   ],
   "metadata": {
    "collapsed": false,
    "pycharm": {
     "name": "#%%\n",
     "is_executing": false
    }
   }
  },
  {
   "cell_type": "code",
   "execution_count": 5,
   "outputs": [
    {
     "data": {
      "text/plain": "<Figure size 432x288 with 1 Axes>",
      "image/png": "[encoded data removed]"
     },
     "metadata": {},
     "output_type": "display_data"
    }
   ],
   "source": [
    "cv_lasso = pd.Series(lasso[\"CV error\"].tolist(), index = lasso[\"lamda\"].tolist())\n",
    "cv_lasso.plot(title = \"LASSO Regression Cross-Validation\", style='-+') \n",
    "plt.xlabel(\"alpha\") \n",
    "plt.ylabel(\"rmse\") \n",
    "plt.xscale('log')"
   ],
   "metadata": {
    "collapsed": false,
    "pycharm": {
     "name": "#%% Picture of the Lasso Parameter Optimization \n",
     "is_executing": false
    }
   }
  },
  {
   "cell_type": "markdown",
   "source": [
    "The best lambda in Lasso is 0.001\n",
    "\n",
    "\n"
   ],
   "metadata": {
    "collapsed": false,
    "pycharm": {
     "name": "#%% md\n"
    }
   }
  },
  {
   "cell_type": "markdown",
   "source": [
    "\n",
    "## KNN \n",
    "This part is made by XiangTing. Only K need to be optimize"
   ],
   "metadata": {
    "collapsed": false
   }
  },
  {
   "cell_type": "code",
   "execution_count": 6,
   "outputs": [
    {
     "data": {
      "text/plain": "   k  CV error    CV std\n0  5  0.380252  0.004984",
      "text/html": "<div>\n<style scoped>\n    .dataframe tbody tr th:only-of-type {\n        vertical-align: middle;\n    }\n\n    .dataframe tbody tr th {\n        vertical-align: top;\n    }\n\n    .dataframe thead th {\n        text-align: right;\n    }\n</style>\n<table border=\"1\" class=\"dataframe\">\n  <thead>\n    <tr style=\"text-align: right;\">\n      <th></th>\n      <th>k</th>\n      <th>CV error</th>\n      <th>CV std</th>\n    </tr>\n  </thead>\n  <tbody>\n    <tr>\n      <th>0</th>\n      <td>5</td>\n      <td>0.380252</td>\n      <td>0.004984</td>\n    </tr>\n  </tbody>\n</table>\n</div>"
     },
     "metadata": {},
     "output_type": "execute_result",
     "execution_count": 6
    }
   ],
   "source": [
    "# Load Data For KNN\n",
    "from XGBoost.XGBoost_CS235 import Load_Data as Load_Data_KNN\n",
    "from sklearn.neighbors.regression import KNeighborsRegressor\n",
    "\n",
    "X_train, Y_train, X_test, Y_test = Load_Data_KNN(path)\n",
    "knn_base = {\"k\": [5],\n",
    "                  \"CV error\": [],\n",
    "                  \"CV std\": []}\n",
    "knn_basemodel = KNeighborsRegressor()\n",
    "cv_score = -cross_val_score(knn_basemodel, X_train, Y_train, cv=5,scoring=\"neg_mean_squared_error\")\n",
    "\n",
    "knn_base[\"CV error\"] = np.mean(cv_score)\n",
    "knn_base[\"CV std\"] = np.std(cv_score)\n",
    "\n",
    "knn_base = pd.DataFrame(knn_base)\n",
    "knn_base\n",
    "\n",
    "# \tk\tCV error\tCV std\n",
    "# 0\t5\t0.380252\t0.004984"
   ],
   "metadata": {
    "collapsed": false,
    "pycharm": {
     "name": "#%%\n",
     "is_executing": false
    }
   }
  },
  {
   "cell_type": "code",
   "execution_count": 7,
   "outputs": [
    {
     "data": {
      "text/plain": "    k  CV error    CV std\n0   5  0.380252  0.004984\n1  10  0.364216  0.004639\n2  15  0.361765  0.004039\n3  20  0.362062  0.004505\n4  25  0.362992  0.004487\n5  30  0.364213  0.004336\n6  35  0.365166  0.004420\n7  40  0.366303  0.004765\n8  45  0.367205  0.004956",
      "text/html": "<div>\n<style scoped>\n    .dataframe tbody tr th:only-of-type {\n        vertical-align: middle;\n    }\n\n    .dataframe tbody tr th {\n        vertical-align: top;\n    }\n\n    .dataframe thead th {\n        text-align: right;\n    }\n</style>\n<table border=\"1\" class=\"dataframe\">\n  <thead>\n    <tr style=\"text-align: right;\">\n      <th></th>\n      <th>k</th>\n      <th>CV error</th>\n      <th>CV std</th>\n    </tr>\n  </thead>\n  <tbody>\n    <tr>\n      <th>0</th>\n      <td>5</td>\n      <td>0.380252</td>\n      <td>0.004984</td>\n    </tr>\n    <tr>\n      <th>1</th>\n      <td>10</td>\n      <td>0.364216</td>\n      <td>0.004639</td>\n    </tr>\n    <tr>\n      <th>2</th>\n      <td>15</td>\n      <td>0.361765</td>\n      <td>0.004039</td>\n    </tr>\n    <tr>\n      <th>3</th>\n      <td>20</td>\n      <td>0.362062</td>\n      <td>0.004505</td>\n    </tr>\n    <tr>\n      <th>4</th>\n      <td>25</td>\n      <td>0.362992</td>\n      <td>0.004487</td>\n    </tr>\n    <tr>\n      <th>5</th>\n      <td>30</td>\n      <td>0.364213</td>\n      <td>0.004336</td>\n    </tr>\n    <tr>\n      <th>6</th>\n      <td>35</td>\n      <td>0.365166</td>\n      <td>0.004420</td>\n    </tr>\n    <tr>\n      <th>7</th>\n      <td>40</td>\n      <td>0.366303</td>\n      <td>0.004765</td>\n    </tr>\n    <tr>\n      <th>8</th>\n      <td>45</td>\n      <td>0.367205</td>\n      <td>0.004956</td>\n    </tr>\n  </tbody>\n</table>\n</div>"
     },
     "metadata": {},
     "output_type": "execute_result",
     "execution_count": 7
    }
   ],
   "source": [
    "# K optimization\n",
    "knn_mdels = {\"k\": [],\n",
    "                  \"CV error\": [],\n",
    "                  \"CV std\": []}\n",
    "k_list = range(5,50,5)\n",
    "for k in k_list:\n",
    "    knn_model = KNeighborsRegressor(n_neighbors=k, n_jobs= 4)\n",
    "    cv_score = -cross_val_score(knn_model, X_train, Y_train, cv=5,scoring=\"neg_mean_squared_error\")\n",
    "    \n",
    "    knn_mdels[\"k\"].append(k)\n",
    "    knn_mdels[\"CV error\"].append(np.mean(cv_score))\n",
    "    knn_mdels[\"CV std\"].append(np.std(cv_score))\n",
    "    \n",
    "knn_mdels = pd.DataFrame(knn_mdels)\n",
    "knn_mdels\n",
    "\n",
    "# \tk\tCV error\tCV std\n",
    "# 0\t5\t0.380252\t0.004984\n",
    "# 1\t10\t0.364216\t0.004639\n",
    "# 2\t15\t0.361765\t0.004039\n",
    "# 3\t20\t0.362062\t0.004505\n",
    "# 4\t25\t0.362992\t0.004487\n",
    "# 5\t30\t0.364213\t0.004336\n",
    "# 6\t35\t0.365166\t0.004420\n",
    "# 7\t40\t0.366303\t0.004765\n",
    "# 8\t45\t0.367205\t0.004956"
   ],
   "metadata": {
    "collapsed": false,
    "pycharm": {
     "name": "#%% \n",
     "is_executing": false
    }
   }
  },
  {
   "cell_type": "code",
   "execution_count": 8,
   "outputs": [
    {
     "data": {
      "text/plain": "Text(0,0.5,'rmse')"
     },
     "metadata": {},
     "output_type": "execute_result",
     "execution_count": 8
    },
    {
     "data": {
      "text/plain": "<Figure size 432x288 with 1 Axes>",
      "image/png": "[encoded data removed]"
     },
     "metadata": {},
     "output_type": "display_data"
    }
   ],
   "source": [
    "\n",
    "cv_knn = pd.Series(knn_mdels[\"CV error\"].tolist(), index = knn_mdels[\"k\"].tolist())\n",
    "cv_knn.plot(title = \"KNN Regression Cross-Validation\", style='-+') \n",
    "plt.xlabel(\"k\") \n",
    "plt.ylabel(\"rmse\") \n",
    "# plt.xscale('log')\n"
   ],
   "metadata": {
    "collapsed": false,
    "pycharm": {
     "name": "#%%\n",
     "is_executing": false
    }
   }
  },
  {
   "cell_type": "markdown",
   "source": [
    "The Best K of KNN is 15\n",
    "\n",
    "## RandomForest\n",
    "\n",
    "This part is made by Faisal. Several params need to be optimized:  \n",
    "n_estimator  \n",
    "max_depth  \n"
   ],
   "metadata": {
    "collapsed": false,
    "pycharm": {
     "name": "#%% md\n"
    }
   }
  },
  {
   "cell_type": "code",
   "execution_count": 9,
   "outputs": [
    {
     "data": {
      "text/plain": "   n_estimators  max_depth  CV error   CV std\n0            10          4  0.187732  0.00342",
      "text/html": "<div>\n<style scoped>\n    .dataframe tbody tr th:only-of-type {\n        vertical-align: middle;\n    }\n\n    .dataframe tbody tr th {\n        vertical-align: top;\n    }\n\n    .dataframe thead th {\n        text-align: right;\n    }\n</style>\n<table border=\"1\" class=\"dataframe\">\n  <thead>\n    <tr style=\"text-align: right;\">\n      <th></th>\n      <th>n_estimators</th>\n      <th>max_depth</th>\n      <th>CV error</th>\n      <th>CV std</th>\n    </tr>\n  </thead>\n  <tbody>\n    <tr>\n      <th>0</th>\n      <td>10</td>\n      <td>4</td>\n      <td>0.187732</td>\n      <td>0.00342</td>\n    </tr>\n  </tbody>\n</table>\n</div>"
     },
     "metadata": {},
     "output_type": "execute_result",
     "execution_count": 9
    }
   ],
   "source": [
    "from sklearn.ensemble import RandomForestRegressor\n",
    "# Base Model \n",
    "rf_base = {\"n_estimators\": [10],\n",
    "            \"max_depth\": [4],\n",
    "                  \"CV error\": [],\n",
    "                  \"CV std\": []}\n",
    "rf_basemodel = RandomForestRegressor(n_estimators=10, max_depth= 4)\n",
    "cv_score = -cross_val_score(rf_basemodel, X_train, Y_train, cv=5,scoring=\"neg_mean_squared_error\")\n",
    "\n",
    "rf_base[\"CV error\"] = np.mean(cv_score)\n",
    "rf_base[\"CV std\"] = np.std(cv_score)\n",
    "\n",
    "rf_base = pd.DataFrame(rf_base)\n",
    "rf_base\n",
    "\n",
    "#   n_estimators\tmax_depth\tCV error\tCV std\n",
    "# 0\t10\t4\t0.187757\t0.003101"
   ],
   "metadata": {
    "collapsed": false,
    "pycharm": {
     "name": "#%%\n",
     "is_executing": false
    }
   }
  },
  {
   "cell_type": "code",
   "execution_count": 20,
   "outputs": [
    {
     "data": {
      "text/plain": "    n_estimators  max_depth  CV error    CV std\n0             10          2  0.217879  0.002337\n1             10          3  0.199514  0.002753\n2             10          4  0.187519  0.002891\n3             10          5  0.178794  0.003176\n4             10          6  0.171072  0.002813\n5             10          7  0.166204  0.003301\n6             10          8  0.162504  0.003213\n7             12          2  0.217710  0.003075\n8             12          3  0.199140  0.003234\n9             12          4  0.187596  0.002836\n10            12          5  0.178317  0.003095\n11            12          6  0.171045  0.003063\n12            12          7  0.166122  0.003269\n13            12          8  0.162082  0.003128\n14            14          2  0.216977  0.002392\n15            14          3  0.199435  0.002886\n16            14          4  0.187105  0.003176\n17            14          5  0.178312  0.002927\n18            14          6  0.170989  0.003089\n19            14          7  0.166412  0.002719\n20            14          8  0.161990  0.003004\n21            16          2  0.217511  0.002182\n22            16          3  0.199468  0.003066\n23            16          4  0.187329  0.003240\n24            16          5  0.178591  0.002730\n25            16          6  0.171015  0.002591\n26            16          7  0.165834  0.002383\n27            16          8  0.161574  0.002991\n28            18          2  0.216672  0.003410\n29            18          3  0.199250  0.003242\n30            18          4  0.187190  0.002636\n31            18          5  0.178147  0.003090\n32            18          6  0.170780  0.002779\n33            18          7  0.165498  0.002723\n34            18          8  0.161586  0.002848",
      "text/html": "<div>\n<style scoped>\n    .dataframe tbody tr th:only-of-type {\n        vertical-align: middle;\n    }\n\n    .dataframe tbody tr th {\n        vertical-align: top;\n    }\n\n    .dataframe thead th {\n        text-align: right;\n    }\n</style>\n<table border=\"1\" class=\"dataframe\">\n  <thead>\n    <tr style=\"text-align: right;\">\n      <th></th>\n      <th>n_estimators</th>\n      <th>max_depth</th>\n      <th>CV error</th>\n      <th>CV std</th>\n    </tr>\n  </thead>\n  <tbody>\n    <tr>\n      <th>0</th>\n      <td>10</td>\n      <td>2</td>\n      <td>0.217879</td>\n      <td>0.002337</td>\n    </tr>\n    <tr>\n      <th>1</th>\n      <td>10</td>\n      <td>3</td>\n      <td>0.199514</td>\n      <td>0.002753</td>\n    </tr>\n    <tr>\n      <th>2</th>\n      <td>10</td>\n      <td>4</td>\n      <td>0.187519</td>\n      <td>0.002891</td>\n    </tr>\n    <tr>\n      <th>3</th>\n      <td>10</td>\n      <td>5</td>\n      <td>0.178794</td>\n      <td>0.003176</td>\n    </tr>\n    <tr>\n      <th>4</th>\n      <td>10</td>\n      <td>6</td>\n      <td>0.171072</td>\n      <td>0.002813</td>\n    </tr>\n    <tr>\n      <th>5</th>\n      <td>10</td>\n      <td>7</td>\n      <td>0.166204</td>\n      <td>0.003301</td>\n    </tr>\n    <tr>\n      <th>6</th>\n      <td>10</td>\n      <td>8</td>\n      <td>0.162504</td>\n      <td>0.003213</td>\n    </tr>\n    <tr>\n      <th>7</th>\n      <td>12</td>\n      <td>2</td>\n      <td>0.217710</td>\n      <td>0.003075</td>\n    </tr>\n    <tr>\n      <th>8</th>\n      <td>12</td>\n      <td>3</td>\n      <td>0.199140</td>\n      <td>0.003234</td>\n    </tr>\n    <tr>\n      <th>9</th>\n      <td>12</td>\n      <td>4</td>\n      <td>0.187596</td>\n      <td>0.002836</td>\n    </tr>\n    <tr>\n      <th>10</th>\n      <td>12</td>\n      <td>5</td>\n      <td>0.178317</td>\n      <td>0.003095</td>\n    </tr>\n    <tr>\n      <th>11</th>\n      <td>12</td>\n      <td>6</td>\n      <td>0.171045</td>\n      <td>0.003063</td>\n    </tr>\n    <tr>\n      <th>12</th>\n      <td>12</td>\n      <td>7</td>\n      <td>0.166122</td>\n      <td>0.003269</td>\n    </tr>\n    <tr>\n      <th>13</th>\n      <td>12</td>\n      <td>8</td>\n      <td>0.162082</td>\n      <td>0.003128</td>\n    </tr>\n    <tr>\n      <th>14</th>\n      <td>14</td>\n      <td>2</td>\n      <td>0.216977</td>\n      <td>0.002392</td>\n    </tr>\n    <tr>\n      <th>15</th>\n      <td>14</td>\n      <td>3</td>\n      <td>0.199435</td>\n      <td>0.002886</td>\n    </tr>\n    <tr>\n      <th>16</th>\n      <td>14</td>\n      <td>4</td>\n      <td>0.187105</td>\n      <td>0.003176</td>\n    </tr>\n    <tr>\n      <th>17</th>\n      <td>14</td>\n      <td>5</td>\n      <td>0.178312</td>\n      <td>0.002927</td>\n    </tr>\n    <tr>\n      <th>18</th>\n      <td>14</td>\n      <td>6</td>\n      <td>0.170989</td>\n      <td>0.003089</td>\n    </tr>\n    <tr>\n      <th>19</th>\n      <td>14</td>\n      <td>7</td>\n      <td>0.166412</td>\n      <td>0.002719</td>\n    </tr>\n    <tr>\n      <th>20</th>\n      <td>14</td>\n      <td>8</td>\n      <td>0.161990</td>\n      <td>0.003004</td>\n    </tr>\n    <tr>\n      <th>21</th>\n      <td>16</td>\n      <td>2</td>\n      <td>0.217511</td>\n      <td>0.002182</td>\n    </tr>\n    <tr>\n      <th>22</th>\n      <td>16</td>\n      <td>3</td>\n      <td>0.199468</td>\n      <td>0.003066</td>\n    </tr>\n    <tr>\n      <th>23</th>\n      <td>16</td>\n      <td>4</td>\n      <td>0.187329</td>\n      <td>0.003240</td>\n    </tr>\n    <tr>\n      <th>24</th>\n      <td>16</td>\n      <td>5</td>\n      <td>0.178591</td>\n      <td>0.002730</td>\n    </tr>\n    <tr>\n      <th>25</th>\n      <td>16</td>\n      <td>6</td>\n      <td>0.171015</td>\n      <td>0.002591</td>\n    </tr>\n    <tr>\n      <th>26</th>\n      <td>16</td>\n      <td>7</td>\n      <td>0.165834</td>\n      <td>0.002383</td>\n    </tr>\n    <tr>\n      <th>27</th>\n      <td>16</td>\n      <td>8</td>\n      <td>0.161574</td>\n      <td>0.002991</td>\n    </tr>\n    <tr>\n      <th>28</th>\n      <td>18</td>\n      <td>2</td>\n      <td>0.216672</td>\n      <td>0.003410</td>\n    </tr>\n    <tr>\n      <th>29</th>\n      <td>18</td>\n      <td>3</td>\n      <td>0.199250</td>\n      <td>0.003242</td>\n    </tr>\n    <tr>\n      <th>30</th>\n      <td>18</td>\n      <td>4</td>\n      <td>0.187190</td>\n      <td>0.002636</td>\n    </tr>\n    <tr>\n      <th>31</th>\n      <td>18</td>\n      <td>5</td>\n      <td>0.178147</td>\n      <td>0.003090</td>\n    </tr>\n    <tr>\n      <th>32</th>\n      <td>18</td>\n      <td>6</td>\n      <td>0.170780</td>\n      <td>0.002779</td>\n    </tr>\n    <tr>\n      <th>33</th>\n      <td>18</td>\n      <td>7</td>\n      <td>0.165498</td>\n      <td>0.002723</td>\n    </tr>\n    <tr>\n      <th>34</th>\n      <td>18</td>\n      <td>8</td>\n      <td>0.161586</td>\n      <td>0.002848</td>\n    </tr>\n  </tbody>\n</table>\n</div>"
     },
     "metadata": {},
     "output_type": "execute_result",
     "execution_count": 20
    }
   ],
   "source": [
    "#  n_estimator and depth optimize\n",
    "rf_mdels = {\"n_estimators\": [],\n",
    "            \"max_depth\": [],\n",
    "                  \"CV error\": [],\n",
    "                  \"CV std\": []}\n",
    "estimator_list = range(10,20,2)\n",
    "max_depth = range(2,9)\n",
    "for e in estimator_list:\n",
    "    for d in max_depth:\n",
    "        rf_model = RandomForestRegressor(n_estimators= e, max_depth=d, n_jobs= 4)\n",
    "        cv_score = -cross_val_score(rf_model, X_train, Y_train, cv=5,scoring=\"neg_mean_squared_error\")\n",
    "        \n",
    "        rf_mdels[\"n_estimators\"].append(e)\n",
    "        rf_mdels[\"max_depth\"].append(d)\n",
    "        rf_mdels[\"CV error\"].append(np.mean(cv_score))\n",
    "        rf_mdels[\"CV std\"].append(np.std(cv_score))\n",
    "        \n",
    "rf_mdels = pd.DataFrame(rf_mdels)\n",
    "rf_mdels\n",
    "\n"
   ],
   "metadata": {
    "collapsed": false,
    "pycharm": {
     "name": "#%%\n",
     "is_executing": false
    }
   }
  },
  {
   "cell_type": "code",
   "execution_count": 22,
   "outputs": [
    {
     "data": {
      "text/plain": "<Figure size 432x288 with 1 Axes>",
      "image/png": "[encoded data removed]"
     },
     "metadata": {},
     "output_type": "display_data"
    }
   ],
   "source": [
    "## Picture of RandomForest\n",
    "import matplotlib as mlp\n",
    "colors = np.random.choice(list(mlp.colors.XKCD_COLORS.keys()), len(max_depth), replace=False)\n",
    "comment_list = []\n",
    "for i, d in enumerate(max_depth):\n",
    "    if i >0:\n",
    "        plt.plot(\"n_estimators\",\"CV error\", data = rf_mdels[rf_mdels[\"max_depth\"] == d], color = colors[i], label = \"max_depth:\" + str(d))\n",
    "        comment_list.append(\"max_depth:\" + str(d))\n",
    "        \n",
    "plt.legend(comment_list,loc='upper right')\n",
    "plt.show()"
   ],
   "metadata": {
    "collapsed": false,
    "pycharm": {
     "name": "#%%\n",
     "is_executing": false
    }
   }
  },
  {
   "cell_type": "markdown",
   "source": [
    "Best params:\n",
    "depth = 8\n",
    "n_estimator = 18\n",
    "\n",
    "## XGBoost  \n",
    "This part is made by Xinlong. Several params need to be optimized:  \n",
    "n_estimator  \n",
    "max_depth  "
   ],
   "metadata": {
    "collapsed": false,
    "pycharm": {
     "name": "#%% md\n",
     "is_executing": false
    }
   }
  },
  {
   "cell_type": "code",
   "execution_count": 30,
   "outputs": [],
   "source": [
    "from xgboost import XGBRegressor\n",
    "xgb_baseline = XGBRegressor(n_estimators=1000, learning_rate=0.05, early_stopping_rounds=5)\n",
    "\n",
    "fit_params={\"early_stopping_rounds\":5, \n",
    "            \"eval_metric\" : \"rmse\",\n",
    "            \"eval_set\" : [(X_test, Y_test)],\n",
    "            \"verbose\":False}\n",
    "\n",
    "cv_res = -cross_val_score(xgb_baseline, X_train, Y_train, scoring='neg_mean_squared_error', cv=5, fit_params = fit_params, n_jobs=5)\n",
    "\n",
    "xgb_baseline_results = pd.DataFrame({\n",
    "            \"learning_rate\": [0.05],\n",
    "            'CV error': cv_res.mean(), \n",
    "            'CV std': cv_res.std()})"
   ],
   "metadata": {
    "collapsed": false,
    "pycharm": {
     "name": "#%%\n",
     "is_executing": false
    }
   }
  },
  {
   "cell_type": "code",
   "execution_count": null,
   "outputs": [],
   "source": [
    "\n"
   ],
   "metadata": {
    "collapsed": false,
    "pycharm": {
     "name": "#%%\n"
    }
   }
  }
 ],
 "metadata": {
  "kernelspec": {
   "display_name": "Python 3",
   "language": "python",
   "name": "python3"
  },
  "language_info": {
   "codemirror_mode": {
    "name": "ipython",
    "version": 3
   },
   "file_extension": ".py",
   "mimetype": "text/x-python",
   "name": "python",
   "nbconvert_exporter": "python",
   "pygments_lexer": "ipython3",
   "version": "3.6.6"
  },
  "pycharm": {
   "stem_cell": {
    "cell_type": "raw",
    "source": [],
    "metadata": {
     "collapsed": false
    }
   }
  }
 },
 "nbformat": 4,
 "nbformat_minor": 2
}